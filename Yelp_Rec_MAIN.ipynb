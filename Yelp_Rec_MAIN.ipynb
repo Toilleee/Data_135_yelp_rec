{
  "nbformat": 4,
  "nbformat_minor": 0,
  "metadata": {
    "accelerator": "TPU",
    "colab": {
      "name": "Yelp_Rec_MAIN",
      "provenance": [],
      "collapsed_sections": [],
      "toc_visible": true,
      "machine_shape": "hm"
    },
    "kernelspec": {
      "display_name": "Python 3",
      "name": "python3"
    }
  },
  "cells": [
    {
      "cell_type": "markdown",
      "metadata": {
        "id": "VNk48Ip8rwk7"
      },
      "source": [
        "# **Yelp User Rec - Item Based Collaborative Filtering (Oregon)**\n",
        "\n"
      ]
    },
    {
      "cell_type": "code",
      "metadata": {
        "id": "Z9t9oFSLryXr"
      },
      "source": [
        "import pandas as pd\n",
        "import numpy as np\n",
        "import itertools\n",
        "from io import StringIO\n",
        "import re"
      ],
      "execution_count": null,
      "outputs": []
    },
    {
      "cell_type": "code",
      "metadata": {
        "colab": {
          "base_uri": "https://localhost:8080/"
        },
        "id": "-PpupzTxqF8-",
        "outputId": "0c101ae1-b3ad-4656-8a09-24e20e7c14c1"
      },
      "source": [
        "from google.colab import drive\n",
        "drive.mount('/content/drive')"
      ],
      "execution_count": null,
      "outputs": [
        {
          "output_type": "stream",
          "text": [
            "Drive already mounted at /content/drive; to attempt to forcibly remount, call drive.mount(\"/content/drive\", force_remount=True).\n"
          ],
          "name": "stdout"
        }
      ]
    },
    {
      "cell_type": "markdown",
      "metadata": {
        "id": "D-_x34WqCkT0"
      },
      "source": [
        "# **Importing Data** \n"
      ]
    },
    {
      "cell_type": "markdown",
      "metadata": {
        "id": "v6W9RC6HCqG8"
      },
      "source": [
        "Json Files downloaded from:\n",
        "https://www.kaggle.com/yelp-dataset/yelp-datasetbeing \n",
        "\n",
        "Datasets used: \n",
        "- yelp_academic_dataset_business.json\n",
        "- yelp_academic_dataset_user.json\n",
        "- yelp_academic_dataset_review.json\n",
        "\n",
        "Files uploaded to path: '/content/drive/MyDrive/DataX/'\n",
        "\n",
        "and read through Google Drive. "
      ]
    },
    {
      "cell_type": "code",
      "metadata": {
        "id": "pafL7Li0jyXW"
      },
      "source": [
        "business = []\n",
        "with open('/content/drive/MyDrive/DataX/yelp_academic_dataset_business.json', 'r') as f:\n",
        "    while True:\n",
        "        lines = list(itertools.islice(f, 1000))\n",
        "        if lines:\n",
        "            lines_str = ''.join(lines)\n",
        "            business.append(pd.read_json(StringIO(lines_str), lines=True))\n",
        "        else:\n",
        "            break\n",
        "df_business = pd.concat(business)"
      ],
      "execution_count": null,
      "outputs": []
    },
    {
      "cell_type": "code",
      "metadata": {
        "id": "5hOXD2nhl9FP"
      },
      "source": [
        "user = []\n",
        "with open('/content/drive/MyDrive/DataX/yelp_academic_dataset_user.json', 'r') as f:\n",
        "    while True:\n",
        "        lines = list(itertools.islice(f, 1000))\n",
        "        if lines:\n",
        "            lines_str = ''.join(lines)\n",
        "            user.append(pd.read_json(StringIO(lines_str), lines=True))\n",
        "        else:\n",
        "            break\n",
        "df_users = pd.concat(user)"
      ],
      "execution_count": null,
      "outputs": []
    },
    {
      "cell_type": "code",
      "metadata": {
        "id": "WXS1fvcfl9i2"
      },
      "source": [
        "review = []\n",
        "with open('/content/drive/MyDrive/DataX/yelp_academic_dataset_review.json', 'r') as f:\n",
        "    while True:\n",
        "        lines = list(itertools.islice(f, 1000))\n",
        "        if lines:\n",
        "            lines_str = ''.join(lines)\n",
        "            review.append(pd.read_json(StringIO(lines_str), lines=True))\n",
        "        else:\n",
        "            break\n",
        "df_reviews = pd.concat(review)"
      ],
      "execution_count": null,
      "outputs": []
    },
    {
      "cell_type": "markdown",
      "metadata": {
        "id": "e0PTe3fJEi4H"
      },
      "source": [
        "# **Data Wrangling**"
      ]
    },
    {
      "cell_type": "code",
      "metadata": {
        "id": "9izrI7KtrhuQ"
      },
      "source": [
        "#Filtering the Data Frame to be businesses located only in Oregon\n",
        "\n",
        "df_or = df_business[df_business['state'] == 'OR']\n",
        "price_point = []\n",
        "for attributes in df_or.attributes:\n",
        "  if attributes == None:\n",
        "    price_point.append(None)\n",
        "  else:\n",
        "    t_f = 'RestaurantsPriceRange2' in attributes\n",
        "    if t_f:\n",
        "      price = attributes['RestaurantsPriceRange2']\n",
        "      if price == 'None':\n",
        "        price_point.append(None)\n",
        "      else:\n",
        "        price = int(price)\n",
        "        price_point.append(price)\n",
        "    else:\n",
        "      price_point.append(None)"
      ],
      "execution_count": null,
      "outputs": []
    },
    {
      "cell_type": "code",
      "metadata": {
        "colab": {
          "base_uri": "https://localhost:8080/"
        },
        "id": "LUMWEWO-RPsI",
        "outputId": "21068bd1-5bb5-4be8-bf95-4b65b0dd0140"
      },
      "source": [
        "restaurant_t_f = []\n",
        "for categories in df_or.categories:\n",
        "  if categories == None:\n",
        "    restaurant_t_f.append(False)\n",
        "  elif 'Restaurants' in categories: #or 'Food' in categories\n",
        "    restaurant_t_f.append(True)\n",
        "  else:\n",
        "    restaurant_t_f.append(False)\n",
        "\n",
        "df_or['Restaurant'] = restaurant_t_f"
      ],
      "execution_count": null,
      "outputs": [
        {
          "output_type": "stream",
          "text": [
            "/usr/local/lib/python3.7/dist-packages/ipykernel_launcher.py:10: SettingWithCopyWarning: \n",
            "A value is trying to be set on a copy of a slice from a DataFrame.\n",
            "Try using .loc[row_indexer,col_indexer] = value instead\n",
            "\n",
            "See the caveats in the documentation: https://pandas.pydata.org/pandas-docs/stable/user_guide/indexing.html#returning-a-view-versus-a-copy\n",
            "  # Remove the CWD from sys.path while we load stuff.\n"
          ],
          "name": "stderr"
        }
      ]
    },
    {
      "cell_type": "code",
      "metadata": {
        "colab": {
          "base_uri": "https://localhost:8080/"
        },
        "id": "0Du_eh15ST3c",
        "outputId": "7bf55e2c-4683-4df5-ae4a-ced9cb2289ab"
      },
      "source": [
        "df_or['price_point'] = price_point\n",
        "reviews_business = pd.merge(df_reviews, df_or, on = 'business_id')\n",
        "counts = reviews_business['user_id'].value_counts()"
      ],
      "execution_count": null,
      "outputs": [
        {
          "output_type": "stream",
          "text": [
            "/usr/local/lib/python3.7/dist-packages/ipykernel_launcher.py:1: SettingWithCopyWarning: \n",
            "A value is trying to be set on a copy of a slice from a DataFrame.\n",
            "Try using .loc[row_indexer,col_indexer] = value instead\n",
            "\n",
            "See the caveats in the documentation: https://pandas.pydata.org/pandas-docs/stable/user_guide/indexing.html#returning-a-view-versus-a-copy\n",
            "  \"\"\"Entry point for launching an IPython kernel.\n"
          ],
          "name": "stderr"
        }
      ]
    },
    {
      "cell_type": "code",
      "metadata": {
        "id": "5v0yjvGa-qyF"
      },
      "source": [
        "sum_stars = {}\n",
        "\n",
        "for i in range(len(reviews_business)):\n",
        "  user = reviews_business.iloc[i, 1]\n",
        "  stars = reviews_business.iloc[i, 3]\n",
        "  if user in sum_stars.keys():\n",
        "    curr_val = sum_stars[user]\n",
        "    sum_stars[user] = curr_val + stars\n",
        "  else:\n",
        "    sum_stars[user] = stars"
      ],
      "execution_count": null,
      "outputs": []
    },
    {
      "cell_type": "code",
      "metadata": {
        "id": "JcZdMc-_nya2"
      },
      "source": [
        "mean_stars = []\n",
        "\n",
        "for user in reviews_business['user_id']:\n",
        "  mean = sum_stars[user] / counts[user]\n",
        "  mean_stars.append(mean)\n",
        "  \n",
        "reviews_business['normalized_stars'] = reviews_business['stars_x'] - mean_stars"
      ],
      "execution_count": null,
      "outputs": []
    },
    {
      "cell_type": "code",
      "metadata": {
        "id": "SUuOl3ZPbPcE"
      },
      "source": [
        "#This cell can be adjusted to include predictions for less users. \n",
        "#If you just want to see the model in action without spending too much time waiting for the cells to load.\n",
        "#Feel free to uncomment the next line and comment out the current line:\n",
        "\n",
        "#user_reviews_business = reviews_business[reviews_business['user_id'].isin(counts.index[counts > 99])]\n",
        "\n",
        "user_reviews_business = reviews_business[reviews_business['user_id'].isin(counts.index[counts > 9])]"
      ],
      "execution_count": null,
      "outputs": []
    },
    {
      "cell_type": "markdown",
      "metadata": {
        "id": "wRYfnElDH9Mn"
      },
      "source": [
        "# **User-Business Ratings Matrix**"
      ]
    },
    {
      "cell_type": "code",
      "metadata": {
        "id": "Dsvva38LbSZy"
      },
      "source": [
        "user_ratings = pd.pivot_table(user_reviews_business, values = 'stars_x', index = 'user_id', columns = ['business_id'])\n",
        "user_ratings = user_ratings.dropna(thresh = 4, axis = 1)"
      ],
      "execution_count": null,
      "outputs": []
    },
    {
      "cell_type": "code",
      "metadata": {
        "id": "aZ--NYE1bVmP"
      },
      "source": [
        "#Normalized version\n",
        "norm_user_ratings = pd.pivot_table(user_reviews_business, values = 'normalized_stars', index = 'user_id', columns = ['business_id'])\n",
        "norm_user_ratings = norm_user_ratings.dropna(thresh = 4, axis = 1)"
      ],
      "execution_count": null,
      "outputs": []
    },
    {
      "cell_type": "markdown",
      "metadata": {
        "id": "v1ZSwt06IUsL"
      },
      "source": [
        "# **Cosine Similarity Matrix**"
      ]
    },
    {
      "cell_type": "code",
      "metadata": {
        "id": "8LPt5CIhbYvv"
      },
      "source": [
        "#Code obtained from: https://medium.com/analytics-vidhya/speed-up-cosine-similarity-computations-in-python-using-numba-c04bc0741750\n",
        "#Using jit, speeds up computational run-time\n",
        "\n",
        "import math\n",
        "from numba import jit\n",
        "@jit(nopython=True)\n",
        "def cosine_similarity(u_norm:np.ndarray, v_norm:np.ndarray, u:np.ndarray, v:np.ndarray):\n",
        "    uv = 0\n",
        "    uu = 0\n",
        "    vv = 0\n",
        "    for i in range(u_norm.shape[0]):\n",
        "      val = u_norm[i]*v_norm[i]\n",
        "      if ~math.isnan(val):\n",
        "        uv += val\n",
        "        uu += u[i]*u[i]\n",
        "        vv += v[i]*v[i]\n",
        "    cos_theta = 0\n",
        "    if uu!=0 and vv!=0:\n",
        "        cos_theta = uv/np.sqrt(uu*vv)\n",
        "    return cos_theta"
      ],
      "execution_count": null,
      "outputs": []
    },
    {
      "cell_type": "code",
      "metadata": {
        "id": "NQNQEo1HbbaO"
      },
      "source": [
        "#This cell will take a long time to run depending on the number of user we are creating predictions for.\n",
        "#This cell is calculating the cosine similarity between each and every business\n",
        "\n",
        "norm_ratings_array = []\n",
        "for i in range(len(norm_user_ratings.columns)):\n",
        "  norm_ratings_array.append(norm_user_ratings.iloc[:, i].to_numpy())\n",
        "\n",
        "ratings_array = []\n",
        "for i in range(len(user_ratings.columns)):\n",
        "  ratings_array.append(user_ratings.iloc[:, i].to_numpy())\n",
        "\n",
        "similarity_matrix = []\n",
        "for i in range(len(norm_user_ratings.columns)):\n",
        "  corr = []\n",
        "  for j in range(len(norm_user_ratings.columns)):\n",
        "    similarity = cosine_similarity(norm_ratings_array[i], norm_ratings_array[j], ratings_array[i], ratings_array[j])\n",
        "    corr.append(similarity)\n",
        "  similarity_matrix.append(corr)"
      ],
      "execution_count": null,
      "outputs": []
    },
    {
      "cell_type": "markdown",
      "metadata": {
        "id": "pKSc8d-GIwEA"
      },
      "source": [
        "# **Rating Predictions**"
      ]
    },
    {
      "cell_type": "code",
      "metadata": {
        "id": "hjOVme08bfXq"
      },
      "source": [
        "#Creating this dictionary allows us to get the business name from its index.\n",
        "#we are able to achieve the same function using df.iloc, however we are using a dictionary as this greatly speeds up the search runtime.\n",
        "\n",
        "business_index = {}\n",
        "i = 0\n",
        "for business in user_ratings.columns:\n",
        "  business_index[i] = business\n",
        "  i += 1"
      ],
      "execution_count": null,
      "outputs": []
    },
    {
      "cell_type": "code",
      "metadata": {
        "id": "4apkmSbHBS4w"
      },
      "source": [
        "def user_predictions(user, n_top=5):\n",
        "  user_rated = user_ratings.loc[user, :]\n",
        "  user_pred = []\n",
        "  rated_places = user_ratings.columns[(user_ratings > 0).loc[user]]\n",
        "  relevant_similarity_index = [user_ratings.columns.get_loc(x) for x in rated_places]\n",
        "  for i in range(len(user_rated)):\n",
        "    if user_rated[i] > 0:\n",
        "      user_pred.append(-1.0)\n",
        "    else:\n",
        "      business_scores = similarity_matrix[i]\n",
        "      actual_index = {}\n",
        "      for index in relevant_similarity_index:\n",
        "        actual_index[business_scores[index]] = index\n",
        "      rel_business_scores = list(actual_index.keys())\n",
        "      sorted_scores = sorted(rel_business_scores, reverse = True)\n",
        "      score = 0.000000000001\n",
        "      total_weight = 0.000000000001\n",
        "      if n_top > len(sorted_scores):\n",
        "        n_top = len(sorted_scores)\n",
        "      for k in range(n_top):\n",
        "        if sorted_scores[k] > 0:\n",
        "          weight = sorted_scores[k]\n",
        "          business_rating = user_rated[actual_index[weight]]\n",
        "          score += (weight * business_rating)\n",
        "          total_weight += weight\n",
        "      predicted_score = score / total_weight\n",
        "      user_pred.append(predicted_score)\n",
        "  return user_pred"
      ],
      "execution_count": null,
      "outputs": []
    },
    {
      "cell_type": "code",
      "metadata": {
        "id": "aH_BhSb1mPqJ"
      },
      "source": [
        "def recommend(user, top_business):\n",
        "  recommendations = pd.DataFrame(index = [user])\n",
        "  recommendations[\"User's_name\"] = float(\"NaN\")\n",
        "  recommendations['business_name'] = float(\"NaN\")\n",
        "  recommendations['business_categories'] = float(\"NaN\")\n",
        "  recommendations['business_stars'] = float(\"NaN\")\n",
        "  recommendations['price_point'] = float(\"NaN\")\n",
        "  #recommendations['predicted_score'] = float(\"NaN\")\n",
        "  for i in range(len(recommendations)):\n",
        "    recommendations.iloc[i, 0] = df_users[df_users['user_id'] == user]['name'].item()\n",
        "    recommendations.iloc[i, 1] = df_or[df_or['business_id'] == top_business]['name'].item()\n",
        "    recommendations.iloc[i, 2] = df_or[df_or['business_id'] == top_business]['categories'].item()\n",
        "    recommendations.iloc[i, 3] = df_or[df_or['business_id'] == top_business]['stars'].item()\n",
        "    recommendations.iloc[i, 4] = df_or[df_or['business_id'] == top_business]['price_point'].item()\n",
        "    #recommendations.iloc[i, 5] = rec_ratings.loc[user, business]\n",
        "  return recommendations"
      ],
      "execution_count": null,
      "outputs": []
    },
    {
      "cell_type": "markdown",
      "metadata": {
        "id": "vPYkOU48KGSo"
      },
      "source": [
        "# **End Function**"
      ]
    },
    {
      "cell_type": "code",
      "metadata": {
        "id": "I9LwuF4Bj9fm"
      },
      "source": [
        "def restaurant_recommender(user, restaurant=None, stars=None, price_point=None):\n",
        "  temp_table = df_or.copy()\n",
        "  if restaurant != None:\n",
        "    temp_table = temp_table[temp_table['Restaurant'] == restaurant]\n",
        "  if stars != None:\n",
        "    temp_table = temp_table[temp_table['stars'] >= stars]\n",
        "  if price_point != None:\n",
        "    temp_table = temp_table[temp_table['price_point'] == price_point]\n",
        "  chosen_businesses = [user_ratings.columns.get_loc(business) for business in user_ratings.columns if business in list(temp_table['business_id'])]\n",
        "  business_predictions = user_predictions(user)\n",
        "  top_index = 0\n",
        "  for i in range(len(business_predictions)):\n",
        "    if i not in chosen_businesses:\n",
        "      business_predictions[i] = -1.0\n",
        "    if business_predictions[i] > business_predictions[top_index]:\n",
        "      top_index = i\n",
        "  best_business = user_ratings.columns[top_index]\n",
        "  to_return = recommend(user, best_business)\n",
        "  #pd.set_option(\"display.max_rows\", None, \"display.max_columns\", None)\n",
        "  return to_return"
      ],
      "execution_count": null,
      "outputs": []
    },
    {
      "cell_type": "code",
      "metadata": {
        "id": "CyvNxMktpTKW"
      },
      "source": [
        "user_ratings.index"
      ],
      "execution_count": null,
      "outputs": []
    },
    {
      "cell_type": "markdown",
      "metadata": {
        "id": "P9zpgcJfsCoH"
      },
      "source": [
        "# **Recommendation:**\n",
        "\n",
        "Input User ID:\n",
        "\n",
        "Filters: Restaurants, Stars, Price Point"
      ]
    },
    {
      "cell_type": "code",
      "metadata": {
        "id": "fii8-87noTfe"
      },
      "source": [
        "restaurant_recommender('ztvRQSJ2Be-7TtAYHuMu_w', True, 4, 1)"
      ],
      "execution_count": null,
      "outputs": []
    }
  ]
}